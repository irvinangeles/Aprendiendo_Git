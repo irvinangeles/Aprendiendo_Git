{
 "metadata": {
  "language": "Julia",
  "name": "",
  "signature": "sha256:f690dc94acc94eedf326276956648f025bafa029458b553dbb6324e7c1d37233"
 },
 "nbformat": 3,
 "nbformat_minor": 0,
 "worksheets": [
  {
   "cells": [
    {
     "cell_type": "code",
     "collapsed": false,
     "input": [
      ";pwd"
     ],
     "language": "python",
     "metadata": {},
     "outputs": [
      {
       "output_type": "stream",
       "stream": "stdout",
       "text": [
        "/home/irvin\n"
       ]
      }
     ],
     "prompt_number": 1
    },
    {
     "cell_type": "code",
     "collapsed": false,
     "input": [
      ";git status"
     ],
     "language": "python",
     "metadata": {},
     "outputs": [
      {
       "output_type": "stream",
       "stream": "stderr",
       "text": [
        "fatal: Not a git repository (or any of the parent directories): .git\n"
       ]
      }
     ],
     "prompt_number": 2
    },
    {
     "cell_type": "code",
     "collapsed": false,
     "input": [
      ";git init"
     ],
     "language": "python",
     "metadata": {},
     "outputs": [
      {
       "output_type": "stream",
       "stream": "stdout",
       "text": [
        "Initialized empty Git repository in /home/irvin/.git/\n"
       ]
      }
     ],
     "prompt_number": 3
    },
    {
     "cell_type": "code",
     "collapsed": false,
     "input": [
      "; ls"
     ],
     "language": "python",
     "metadata": {},
     "outputs": [
      {
       "output_type": "stream",
       "stream": "stdout",
       "text": [
        "Descargas\n",
        "Documentos\n",
        "Dropbox\n",
        "Escritorio\n",
        "examples.desktop\n",
        "Im\u00e1genes\n",
        "Irvin Ferm\u00edn Angeles Aguill\u00f3n 309016692 Tarea 1_CALIFICADO.ipynb\n",
        "Irvin Ferm\u00edn Angeles Aguill\u00f3n 309016692 Tarea 1.ipynb\n",
        "M\u00fasica\n",
        "Plantillas\n",
        "practica3.ods\n",
        "P\u00fablico\n",
        "Untitled0.ipynb\n",
        "Untitled1.ipynb\n",
        "V\u00eddeos\n"
       ]
      }
     ],
     "prompt_number": 4
    },
    {
     "cell_type": "code",
     "collapsed": false,
     "input": [
      "; ls -a"
     ],
     "language": "python",
     "metadata": {},
     "outputs": [
      {
       "output_type": "stream",
       "stream": "stdout",
       "text": [
        ".\n",
        "..\n",
        ".adobe\n",
        ".audacity-data\n",
        ".bash_history\n",
        ".bash_logout\n",
        ".bashrc\n",
        ".cache\n",
        ".compiz\n",
        ".config\n",
        ".continuum\n",
        ".dbus\n",
        "Descargas\n",
        ".dmrc\n",
        "Documentos\n",
        ".dropbox\n",
        "Dropbox\n",
        ".dropbox-dist\n",
        "Escritorio\n",
        "examples.desktop\n",
        ".gconf\n",
        ".git\n",
        ".gnome\n",
        ".gstreamer-0.10\n",
        ".gtkpod\n",
        ".ICEauthority\n",
        "Im\u00e1genes\n",
        ".ipynb_checkpoints\n",
        ".ipython\n",
        "Irvin Ferm\u00edn Angeles Aguill\u00f3n 309016692 Tarea 1_CALIFICADO.ipynb\n",
        "Irvin Ferm\u00edn Angeles Aguill\u00f3n 309016692 Tarea 1.ipynb\n",
        ".julia\n",
        ".julia_history\n",
        ".local\n",
        ".lyx\n",
        ".macromedia\n",
        ".mozilla\n",
        "M\u00fasica\n",
        ".pip\n",
        ".pki\n",
        "Plantillas\n",
        "practica3.ods\n",
        ".profile\n",
        "P\u00fablico\n",
        ".Skype\n",
        ".texmf-var\n",
        "Untitled0.ipynb\n",
        "Untitled1.ipynb\n",
        "V\u00eddeos\n",
        ".Xauthority\n",
        ".xsession-errors\n",
        ".xsession-errors.old\n"
       ]
      }
     ],
     "prompt_number": 5
    },
    {
     "cell_type": "code",
     "collapsed": false,
     "input": [
      ";ls .git"
     ],
     "language": "python",
     "metadata": {},
     "outputs": [
      {
       "output_type": "stream",
       "stream": "stdout",
       "text": [
        "branches\n",
        "config\n",
        "description\n",
        "HEAD\n",
        "hooks\n",
        "info\n",
        "objects\n",
        "refs\n"
       ]
      }
     ],
     "prompt_number": 6
    },
    {
     "cell_type": "code",
     "collapsed": false,
     "input": [
      ";git config --global user.name \"Irvin Angeles\""
     ],
     "language": "python",
     "metadata": {},
     "outputs": [],
     "prompt_number": 7
    },
    {
     "cell_type": "code",
     "collapsed": false,
     "input": [
      ";git config --global user.email \"irvinangeles@ciencias.unam.mx\""
     ],
     "language": "python",
     "metadata": {},
     "outputs": [],
     "prompt_number": 8
    },
    {
     "cell_type": "code",
     "collapsed": false,
     "input": [
      ";git status"
     ],
     "language": "python",
     "metadata": {},
     "outputs": [
      {
       "output_type": "stream",
       "stream": "stdout",
       "text": [
        "En la rama master\n",
        "\n",
        "Commit inicial\n",
        "\n",
        "Archivos sin seguimiento:\n",
        "  (use \u00abgit add <archivo>...\u00bb para incluir lo que se ha de ejecutar)\n",
        "\n",
        "\t.ICEauthority\n",
        "\t.Skype/\n",
        "\t.Xauthority\n",
        "\t.audacity-data/\n",
        "\t.bash_history\n",
        "\t.bash_logout\n",
        "\t.bashrc\n",
        "\t.cache/\n",
        "\t.compiz/\n",
        "\t.config/\n",
        "\t.dbus/\n",
        "\t.dmrc\n",
        "\t.dropbox-dist/\n",
        "\t.dropbox/\n",
        "\t.gconf/\n",
        "\t.gitconfig\n",
        "\t.gnome/\n",
        "\t.gstreamer-0.10/\n",
        "\t.gtkpod/\n",
        "\t.ipynb_checkpoints/\n",
        "\t.ipython/\n",
        "\t.julia/\n",
        "\t.julia_history\n",
        "\t.local/\n",
        "\t.lyx/\n",
        "\t.macromedia/\n",
        "\t.mozilla/\n",
        "\t.pip/\n",
        "\t.pki/\n",
        "\t.profile\n",
        "\t.texmf-var/\n",
        "\t.xsession-errors\n",
        "\t.xsession-errors.old\n",
        "\tDescargas/\n",
        "\tDocumentos/\n",
        "\tDropbox/\n",
        "\t\"Im\\303\\241genes/\"\n",
        "\t\"Irvin Ferm\\303\\255n Angeles Aguill\\303\\263n 309016692 Tarea 1.ipynb\"\n",
        "\t\"Irvin Ferm\\303\\255n Angeles Aguill\\303\\263n 309016692 Tarea 1_CALIFICADO.ipynb\"\n",
        "\t\"M\\303\\272sica/\"\n",
        "\tUntitled0.ipynb\n",
        "\tUntitled1.ipynb\n",
        "\texamples.desktop\n",
        "\tpractica3.ods\n",
        "\n",
        "no se ha agregado nada al commit pero existen archivos sin seguimiento (use \u00abgit add\u00bb para darle seguimiento)\n"
       ]
      }
     ],
     "prompt_number": 9
    },
    {
     "cell_type": "code",
     "collapsed": false,
     "input": [
      ";ls"
     ],
     "language": "python",
     "metadata": {},
     "outputs": [
      {
       "output_type": "stream",
       "stream": "stdout",
       "text": [
        "compu.txt\n",
        "Descargas\n",
        "Documentos\n",
        "Dropbox\n",
        "Escritorio\n",
        "examples.desktop\n",
        "Im\u00e1genes\n",
        "Irvin Ferm\u00edn Angeles Aguill\u00f3n 309016692 Tarea 1_CALIFICADO.ipynb\n",
        "Irvin Ferm\u00edn Angeles Aguill\u00f3n 309016692 Tarea 1.ipynb\n",
        "M\u00fasica\n",
        "Plantillas\n",
        "practica3.ods\n",
        "P\u00fablico\n",
        "Untitled0.ipynb\n",
        "Untitled1.ipynb\n",
        "V\u00eddeos\n"
       ]
      }
     ],
     "prompt_number": 10
    },
    {
     "cell_type": "code",
     "collapsed": false,
     "input": [
      ";git status"
     ],
     "language": "python",
     "metadata": {},
     "outputs": [
      {
       "output_type": "stream",
       "stream": "stdout",
       "text": [
        "En la rama master\n",
        "\n",
        "Commit inicial\n",
        "\n",
        "Archivos sin seguimiento:\n",
        "  (use \u00abgit add <archivo>...\u00bb para incluir lo que se ha de ejecutar)\n",
        "\n",
        "\t.ICEauthority\n",
        "\t.Skype/\n",
        "\t.Xauthority\n",
        "\t.audacity-data/\n",
        "\t.bash_history\n",
        "\t.bash_logout\n",
        "\t.bashrc\n",
        "\t.cache/\n",
        "\t.compiz/\n",
        "\t.config/\n",
        "\t.dbus/\n",
        "\t.dmrc\n",
        "\t.dropbox-dist/\n",
        "\t.dropbox/\n",
        "\t.gconf/\n",
        "\t.gitconfig\n",
        "\t.gnome/\n",
        "\t.gstreamer-0.10/\n",
        "\t.gtkpod/\n",
        "\t.ipynb_checkpoints/\n",
        "\t.ipython/\n",
        "\t.julia/\n",
        "\t.julia_history\n",
        "\t.local/\n",
        "\t.lyx/\n",
        "\t.macromedia/\n",
        "\t.mozilla/\n",
        "\t.pip/\n",
        "\t.pki/\n",
        "\t.profile\n",
        "\t.texmf-var/\n",
        "\t.xsession-errors\n",
        "\t.xsession-errors.old\n",
        "\tDescargas/\n",
        "\tDocumentos/\n",
        "\tDropbox/\n",
        "\t\"Im\\303\\241genes/\"\n",
        "\t\"Irvin Ferm\\303\\255n Angeles Aguill\\303\\263n 309016692 Tarea 1.ipynb\"\n",
        "\t\"Irvin Ferm\\303\\255n Angeles Aguill\\303\\263n 309016692 Tarea 1_CALIFICADO.ipynb\"\n",
        "\t\"M\\303\\272sica/\"\n",
        "\tUntitled0.ipynb\n",
        "\tUntitled1.ipynb\n",
        "\tcompu.txt\n",
        "\texamples.desktop\n",
        "\tpractica3.ods\n",
        "\n",
        "no se ha agregado nada al commit pero existen archivos sin seguimiento (use \u00abgit add\u00bb para darle seguimiento)\n"
       ]
      }
     ],
     "prompt_number": 11
    },
    {
     "cell_type": "code",
     "collapsed": false,
     "input": [
      ";git add compu.txt"
     ],
     "language": "python",
     "metadata": {},
     "outputs": [],
     "prompt_number": 12
    },
    {
     "cell_type": "code",
     "collapsed": false,
     "input": [
      ";git status"
     ],
     "language": "python",
     "metadata": {},
     "outputs": [
      {
       "output_type": "stream",
       "stream": "stdout",
       "text": [
        "En la rama master\n",
        "\n",
        "Commit inicial\n",
        "\n",
        "Cambios para hacer commit:\n",
        "  (use \u00abgit rm --cached <archivo>...\u00ab para eliminar stage)\n",
        "\n",
        "\tnew file:   compu.txt\n",
        "\n",
        "Archivos sin seguimiento:\n",
        "  (use \u00abgit add <archivo>...\u00bb para incluir lo que se ha de ejecutar)\n",
        "\n",
        "\t.ICEauthority\n",
        "\t.Skype/\n",
        "\t.Xauthority\n",
        "\t.audacity-data/\n",
        "\t.bash_history\n",
        "\t.bash_logout\n",
        "\t.bashrc\n",
        "\t.cache/\n",
        "\t.compiz/\n",
        "\t.config/\n",
        "\t.dbus/\n",
        "\t.dmrc\n",
        "\t.dropbox-dist/\n",
        "\t.dropbox/\n",
        "\t.gconf/\n",
        "\t.gitconfig\n",
        "\t.gnome/\n",
        "\t.gstreamer-0.10/\n",
        "\t.gtkpod/\n",
        "\t.ipynb_checkpoints/\n",
        "\t.ipython/\n",
        "\t.julia/\n",
        "\t.julia_history\n",
        "\t.local/\n",
        "\t.lyx/\n",
        "\t.macromedia/\n",
        "\t.mozilla/\n",
        "\t.pip/\n",
        "\t.pki/\n",
        "\t.profile\n",
        "\t.texmf-var/\n",
        "\t.xsession-errors\n",
        "\t.xsession-errors.old\n",
        "\tDescargas/\n",
        "\tDocumentos/\n",
        "\tDropbox/\n",
        "\t\"Im\\303\\241genes/\"\n",
        "\t\"Irvin Ferm\\303\\255n Angeles Aguill\\303\\263n 309016692 Tarea 1.ipynb\"\n",
        "\t\"Irvin Ferm\\303\\255n Angeles Aguill\\303\\263n 309016692 Tarea 1_CALIFICADO.ipynb\"\n",
        "\t\"M\\303\\272sica/\"\n",
        "\tUntitled0.ipynb\n",
        "\tUntitled1.ipynb\n",
        "\texamples.desktop\n",
        "\tpractica3.ods\n",
        "\n"
       ]
      }
     ],
     "prompt_number": 13
    },
    {
     "cell_type": "markdown",
     "metadata": {},
     "source": [
      "grabar cambios"
     ]
    },
    {
     "cell_type": "code",
     "collapsed": false,
     "input": [
      ";git commit -m \"Grabaci\u00f3n (commit) inicial: se agreg\u00f3 el archivo compu.txt\""
     ],
     "language": "python",
     "metadata": {},
     "outputs": [
      {
       "output_type": "stream",
       "stream": "stdout",
       "text": [
        "[master (root-commit) af4a0ea] Grabaci\u00f3n (commit) inicial: se agreg\u00f3 el archivo compu.txt\n",
        " 1 file changed, 0 insertions(+), 0 deletions(-)\n",
        " create mode 100644 compu.txt\n"
       ]
      }
     ],
     "prompt_number": 14
    },
    {
     "cell_type": "markdown",
     "metadata": {},
     "source": [
      "Ver la bit\u00e1cora (log) de lo que ha pasado:"
     ]
    },
    {
     "cell_type": "code",
     "collapsed": false,
     "input": [
      ";git log"
     ],
     "language": "python",
     "metadata": {},
     "outputs": [
      {
       "output_type": "stream",
       "stream": "stdout",
       "text": [
        "commit af4a0ea70d158840ce499f2fecd42f6d8de64d56\n",
        "Author: Irvin Angeles <irvinangeles@ciencias.unam.mx>\n",
        "Date:   Thu Sep 25 11:43:56 2014 -0500\n",
        "\n",
        "    Grabaci\u00f3n (commit) inicial: se agreg\u00f3 el archivo compu.txt\n"
       ]
      }
     ],
     "prompt_number": 15
    },
    {
     "cell_type": "markdown",
     "metadata": {},
     "source": [
      "Modificar el archivo "
     ]
    },
    {
     "cell_type": "code",
     "collapsed": false,
     "input": [
      ";git status"
     ],
     "language": "python",
     "metadata": {},
     "outputs": [
      {
       "output_type": "stream",
       "stream": "stdout",
       "text": [
        "En la rama master\n",
        "Cambios no preparados para el commit:\n",
        "  (use \u00abgit add <archivo>...\u00bb para actualizar lo que se ejecutar\u00e1)\n",
        "  (use \u00abgit checkout -- <archivo>...\u00ab para descartar cambios en le directorio de trabajo)\n",
        "\n",
        "\tmodificado: compu.txt\n",
        "\n",
        "Archivos sin seguimiento:\n",
        "  (use \u00abgit add <archivo>...\u00bb para incluir lo que se ha de ejecutar)\n",
        "\n",
        "\t.ICEauthority\n",
        "\t.Skype/\n",
        "\t.Xauthority\n",
        "\t.audacity-data/\n",
        "\t.bash_history\n",
        "\t.bash_logout\n",
        "\t.bashrc\n",
        "\t.cache/\n",
        "\t.compiz/\n",
        "\t.config/\n",
        "\t.dbus/\n",
        "\t.dmrc\n",
        "\t.dropbox-dist/\n",
        "\t.dropbox/\n",
        "\t.gconf/\n",
        "\t.gitconfig\n",
        "\t.gnome/\n",
        "\t.gstreamer-0.10/\n",
        "\t.gtkpod/\n",
        "\t.ipynb_checkpoints/\n",
        "\t.ipython/\n",
        "\t.julia/\n",
        "\t.julia_history\n",
        "\t.local/\n",
        "\t.lyx/\n",
        "\t.macromedia/\n",
        "\t.mozilla/\n",
        "\t.pip/\n",
        "\t.pki/\n",
        "\t.profile\n",
        "\t.texmf-var/\n",
        "\t.xsession-errors\n",
        "\t.xsession-errors.old\n",
        "\tDescargas/\n",
        "\tDocumentos/\n",
        "\tDropbox/\n",
        "\t\"Im\\303\\241genes/\"\n",
        "\t\"Irvin Ferm\\303\\255n Angeles Aguill\\303\\263n 309016692 Tarea 1.ipynb\"\n",
        "\t\"Irvin Ferm\\303\\255n Angeles Aguill\\303\\263n 309016692 Tarea 1_CALIFICADO.ipynb\"\n",
        "\t\"M\\303\\272sica/\"\n",
        "\tUntitled0.ipynb\n",
        "\tUntitled1.ipynb\n",
        "\tcompu.txt~\n",
        "\texamples.desktop\n",
        "\tpractica3.ods\n",
        "\n",
        "no hay cambios agregados al commit (use \u00abgit add\u00bb o \u00abgit commit -a\u00bb)\n"
       ]
      }
     ],
     "prompt_number": 16
    },
    {
     "cell_type": "markdown",
     "metadata": {},
     "source": [
      "Crear otro aarchivo."
     ]
    },
    {
     "cell_type": "code",
     "collapsed": false,
     "input": [
      "; touch compu2.txt"
     ],
     "language": "python",
     "metadata": {},
     "outputs": [],
     "prompt_number": 17
    },
    {
     "cell_type": "code",
     "collapsed": false,
     "input": [
      ";git status"
     ],
     "language": "python",
     "metadata": {},
     "outputs": [
      {
       "output_type": "stream",
       "stream": "stdout",
       "text": [
        "En la rama master\n",
        "Cambios no preparados para el commit:\n",
        "  (use \u00abgit add <archivo>...\u00bb para actualizar lo que se ejecutar\u00e1)\n",
        "  (use \u00abgit checkout -- <archivo>...\u00ab para descartar cambios en le directorio de trabajo)\n",
        "\n",
        "\tmodificado: compu.txt\n",
        "\n",
        "Archivos sin seguimiento:\n",
        "  (use \u00abgit add <archivo>...\u00bb para incluir lo que se ha de ejecutar)\n",
        "\n",
        "\t.ICEauthority\n",
        "\t.Skype/\n",
        "\t.Xauthority\n",
        "\t.audacity-data/\n",
        "\t.bash_history\n",
        "\t.bash_logout\n",
        "\t.bashrc\n",
        "\t.cache/\n",
        "\t.compiz/\n",
        "\t.config/\n",
        "\t.dbus/\n",
        "\t.dmrc\n",
        "\t.dropbox-dist/\n",
        "\t.dropbox/\n",
        "\t.gconf/\n",
        "\t.gitconfig\n",
        "\t.gnome/\n",
        "\t.gstreamer-0.10/\n",
        "\t.gtkpod/\n",
        "\t.ipynb_checkpoints/\n",
        "\t.ipython/\n",
        "\t.julia/\n",
        "\t.julia_history\n",
        "\t.local/\n",
        "\t.lyx/\n",
        "\t.macromedia/\n",
        "\t.mozilla/\n",
        "\t.pip/\n",
        "\t.pki/\n",
        "\t.profile\n",
        "\t.texmf-var/\n",
        "\t.xsession-errors\n",
        "\t.xsession-errors.old\n",
        "\tDescargas/\n",
        "\tDocumentos/\n",
        "\tDropbox/\n",
        "\t\"Im\\303\\241genes/\"\n",
        "\t\"Irvin Ferm\\303\\255n Angeles Aguill\\303\\263n 309016692 Tarea 1.ipynb\"\n",
        "\t\"Irvin Ferm\\303\\255n Angeles Aguill\\303\\263n 309016692 Tarea 1_CALIFICADO.ipynb\"\n",
        "\t\"M\\303\\272sica/\"\n",
        "\tUntitled0.ipynb\n",
        "\tUntitled1.ipynb\n",
        "\tcompu.txt~\n",
        "\tcompu2.txt\n",
        "\texamples.desktop\n",
        "\tpractica3.ods\n",
        "\n",
        "no hay cambios agregados al commit (use \u00abgit add\u00bb o \u00abgit commit -a\u00bb)\n"
       ]
      }
     ],
     "prompt_number": 18
    },
    {
     "cell_type": "code",
     "collapsed": false,
     "input": [
      ";git add compu2.txt"
     ],
     "language": "python",
     "metadata": {},
     "outputs": [],
     "prompt_number": 19
    },
    {
     "cell_type": "code",
     "collapsed": false,
     "input": [
      ";git status"
     ],
     "language": "python",
     "metadata": {},
     "outputs": [
      {
       "output_type": "stream",
       "stream": "stdout",
       "text": [
        "En la rama master\n",
        "Cambios para hacer commit:\n",
        "  (use \u00abgit reset HEAD <archivo>...\u00abpara eliminar stage)\n",
        "\n",
        "\tnew file:   compu2.txt\n",
        "\n",
        "Cambios no preparados para el commit:\n",
        "  (use \u00abgit add <archivo>...\u00bb para actualizar lo que se ejecutar\u00e1)\n",
        "  (use \u00abgit checkout -- <archivo>...\u00ab para descartar cambios en le directorio de trabajo)\n",
        "\n",
        "\tmodificado: compu.txt\n",
        "\n",
        "Archivos sin seguimiento:\n",
        "  (use \u00abgit add <archivo>...\u00bb para incluir lo que se ha de ejecutar)\n",
        "\n",
        "\t.ICEauthority\n",
        "\t.Skype/\n",
        "\t.Xauthority\n",
        "\t.audacity-data/\n",
        "\t.bash_history\n",
        "\t.bash_logout\n",
        "\t.bashrc\n",
        "\t.cache/\n",
        "\t.compiz/\n",
        "\t.config/\n",
        "\t.dbus/\n",
        "\t.dmrc\n",
        "\t.dropbox-dist/\n",
        "\t.dropbox/\n",
        "\t.gconf/\n",
        "\t.gitconfig\n",
        "\t.gnome/\n",
        "\t.gstreamer-0.10/\n",
        "\t.gtkpod/\n",
        "\t.ipynb_checkpoints/\n",
        "\t.ipython/\n",
        "\t.julia/\n",
        "\t.julia_history\n",
        "\t.local/\n",
        "\t.lyx/\n",
        "\t.macromedia/\n",
        "\t.mozilla/\n",
        "\t.pip/\n",
        "\t.pki/\n",
        "\t.profile\n",
        "\t.texmf-var/\n",
        "\t.xsession-errors\n",
        "\t.xsession-errors.old\n",
        "\tDescargas/\n",
        "\tDocumentos/\n",
        "\tDropbox/\n",
        "\t\"Im\\303\\241genes/\"\n",
        "\t\"Irvin Ferm\\303\\255n Angeles Aguill\\303\\263n 309016692 Tarea 1.ipynb\"\n",
        "\t\"Irvin Ferm\\303\\255n Angeles Aguill\\303\\263n 309016692 Tarea 1_CALIFICADO.ipynb\"\n",
        "\t\"M\\303\\272sica/\"\n",
        "\tUntitled0.ipynb\n",
        "\tUntitled1.ipynb\n",
        "\tcompu.txt~\n",
        "\texamples.desktop\n",
        "\tpractica3.ods\n",
        "\n"
       ]
      }
     ],
     "prompt_number": 20
    },
    {
     "cell_type": "code",
     "collapsed": false,
     "input": [
      ";git commit -m \"se agrego compu2.txt\""
     ],
     "language": "python",
     "metadata": {},
     "outputs": [
      {
       "output_type": "stream",
       "stream": "stdout",
       "text": [
        "[master e59c73b] se agrego compu2.txt\n",
        " 1 file changed, 0 insertions(+), 0 deletions(-)\n",
        " create mode 100644 compu2.txt\n"
       ]
      }
     ],
     "prompt_number": 22
    },
    {
     "cell_type": "code",
     "collapsed": false,
     "input": [
      ";git status"
     ],
     "language": "python",
     "metadata": {},
     "outputs": [
      {
       "output_type": "stream",
       "stream": "stdout",
       "text": [
        "En la rama master\n",
        "Cambios no preparados para el commit:\n",
        "  (use \u00abgit add <archivo>...\u00bb para actualizar lo que se ejecutar\u00e1)\n",
        "  (use \u00abgit checkout -- <archivo>...\u00ab para descartar cambios en le directorio de trabajo)\n",
        "\n",
        "\tmodificado: compu.txt\n",
        "\n",
        "Archivos sin seguimiento:\n",
        "  (use \u00abgit add <archivo>...\u00bb para incluir lo que se ha de ejecutar)\n",
        "\n",
        "\t.ICEauthority\n",
        "\t.Skype/\n",
        "\t.Xauthority\n",
        "\t.audacity-data/\n",
        "\t.bash_history\n",
        "\t.bash_logout\n",
        "\t.bashrc\n",
        "\t.cache/\n",
        "\t.compiz/\n",
        "\t.config/\n",
        "\t.dbus/\n",
        "\t.dmrc\n",
        "\t.dropbox-dist/\n",
        "\t.dropbox/\n",
        "\t.gconf/\n",
        "\t.gitconfig\n",
        "\t.gnome/\n",
        "\t.gstreamer-0.10/\n",
        "\t.gtkpod/\n",
        "\t.ipynb_checkpoints/\n",
        "\t.ipython/\n",
        "\t.julia/\n",
        "\t.julia_history\n",
        "\t.local/\n",
        "\t.lyx/\n",
        "\t.macromedia/\n",
        "\t.mozilla/\n",
        "\t.pip/\n",
        "\t.pki/\n",
        "\t.profile\n",
        "\t.texmf-var/\n",
        "\t.xsession-errors\n",
        "\t.xsession-errors.old\n",
        "\tDescargas/\n",
        "\tDocumentos/\n",
        "\tDropbox/\n",
        "\t\"Im\\303\\241genes/\"\n",
        "\t\"Irvin Ferm\\303\\255n Angeles Aguill\\303\\263n 309016692 Tarea 1.ipynb\"\n",
        "\t\"Irvin Ferm\\303\\255n Angeles Aguill\\303\\263n 309016692 Tarea 1_CALIFICADO.ipynb\"\n",
        "\t\"M\\303\\272sica/\"\n",
        "\tUntitled0.ipynb\n",
        "\tUntitled1.ipynb\n",
        "\tcompu.txt~\n",
        "\texamples.desktop\n",
        "\tpractica3.ods\n",
        "\n",
        "no hay cambios agregados al commit (use \u00abgit add\u00bb o \u00abgit commit -a\u00bb)\n"
       ]
      }
     ],
     "prompt_number": 23
    },
    {
     "cell_type": "code",
     "collapsed": false,
     "input": [
      ";git add compu.txt"
     ],
     "language": "python",
     "metadata": {},
     "outputs": [],
     "prompt_number": 24
    },
    {
     "cell_type": "code",
     "collapsed": false,
     "input": [
      ";git commit -m \"Se modifco compu.txt\""
     ],
     "language": "python",
     "metadata": {},
     "outputs": [
      {
       "output_type": "stream",
       "stream": "stdout",
       "text": [
        "[master 7f00e95] Se modifco compu.txt\n",
        " 1 file changed, 5 insertions(+)\n"
       ]
      }
     ],
     "prompt_number": 27
    },
    {
     "cell_type": "code",
     "collapsed": false,
     "input": [
      ";git status"
     ],
     "language": "python",
     "metadata": {},
     "outputs": [
      {
       "output_type": "stream",
       "stream": "stdout",
       "text": [
        "En la rama master\n",
        "Archivos sin seguimiento:\n",
        "  (use \u00abgit add <archivo>...\u00bb para incluir lo que se ha de ejecutar)\n",
        "\n",
        "\t.ICEauthority\n",
        "\t.Skype/\n",
        "\t.Xauthority\n",
        "\t.audacity-data/\n",
        "\t.bash_history\n",
        "\t.bash_logout\n",
        "\t.bashrc\n",
        "\t.cache/\n",
        "\t.compiz/\n",
        "\t.config/\n",
        "\t.dbus/\n",
        "\t.dmrc\n",
        "\t.dropbox-dist/\n",
        "\t.dropbox/\n",
        "\t.gconf/\n",
        "\t.gitconfig\n",
        "\t.gnome/\n",
        "\t.gstreamer-0.10/\n",
        "\t.gtkpod/\n",
        "\t.ipynb_checkpoints/\n",
        "\t.ipython/\n",
        "\t.julia/\n",
        "\t.julia_history\n",
        "\t.local/\n",
        "\t.lyx/\n",
        "\t.macromedia/\n",
        "\t.mozilla/\n",
        "\t.pip/\n",
        "\t.pki/\n",
        "\t.profile\n",
        "\t.texmf-var/\n",
        "\t.xsession-errors\n",
        "\t.xsession-errors.old\n",
        "\tDescargas/\n",
        "\tDocumentos/\n",
        "\tDropbox/\n",
        "\t\"Im\\303\\241genes/\"\n",
        "\t\"Irvin Ferm\\303\\255n Angeles Aguill\\303\\263n 309016692 Tarea 1.ipynb\"\n",
        "\t\"Irvin Ferm\\303\\255n Angeles Aguill\\303\\263n 309016692 Tarea 1_CALIFICADO.ipynb\"\n",
        "\t\"M\\303\\272sica/\"\n",
        "\tUntitled0.ipynb\n",
        "\tUntitled1.ipynb\n",
        "\tcompu.txt~\n",
        "\texamples.desktop\n",
        "\tpractica3.ods\n",
        "\n",
        "no se ha agregado nada al commit pero existen archivos sin seguimiento (use \u00abgit add\u00bb para darle seguimiento)\n"
       ]
      }
     ],
     "prompt_number": 28
    },
    {
     "cell_type": "code",
     "collapsed": false,
     "input": [
      ";git log"
     ],
     "language": "python",
     "metadata": {},
     "outputs": [
      {
       "output_type": "stream",
       "stream": "stdout",
       "text": [
        "commit 7f00e95946fe3182fba11c110c1395da59b1cdbb\n",
        "Author: Irvin Angeles <irvinangeles@ciencias.unam.mx>\n",
        "Date:   Thu Sep 25 11:57:33 2014 -0500\n",
        "\n",
        "    Se modifco compu.txt\n"
       ]
      },
      {
       "output_type": "stream",
       "stream": "stdout",
       "text": [
        "\n",
        "commit e59c73b9f4397a59bd2d3f9482ecc3002d59d3f8\n",
        "Author: Irvin Angeles <irvinangeles@ciencias.unam.mx>\n",
        "Date:   Thu Sep 25 11:55:24 2014 -0500\n",
        "\n",
        "    se agrego compu2.txt\n",
        "\n",
        "commit af4a0ea70d158840ce499f2fecd42f6d8de64d56\n",
        "Author: Irvin Angeles <irvinangeles@ciencias.unam.mx>\n",
        "Date:   Thu Sep 25 11:43:56 2014 -0500\n",
        "\n",
        "    Grabaci\u00f3n (commit) inicial: se agreg\u00f3 el archivo compu.txt\n"
       ]
      }
     ],
     "prompt_number": 29
    },
    {
     "cell_type": "markdown",
     "metadata": {},
     "source": [
      "Si se quieren grabar todos los cambios a la  vez: \"git commit -am\"Mensaje aqu\u00ed\" \" "
     ]
    },
    {
     "cell_type": "code",
     "collapsed": false,
     "input": [
      "; git status"
     ],
     "language": "python",
     "metadata": {},
     "outputs": [
      {
       "output_type": "stream",
       "stream": "stdout",
       "text": [
        "En la rama master\n",
        "Cambios no preparados para el commit:\n",
        "  (use \u00abgit add <archivo>...\u00bb para actualizar lo que se ejecutar\u00e1)\n",
        "  (use \u00abgit checkout -- <archivo>...\u00ab para descartar cambios en le directorio de trabajo)\n",
        "\n",
        "\tmodificado: compu.txt\n",
        "\n",
        "Archivos sin seguimiento:\n",
        "  (use \u00abgit add <archivo>...\u00bb para incluir lo que se ha de ejecutar)\n",
        "\n",
        "\t.ICEauthority\n",
        "\t.Skype/\n",
        "\t.Xauthority\n",
        "\t.audacity-data/\n",
        "\t.bash_history\n",
        "\t.bash_logout\n",
        "\t.bashrc\n",
        "\t.cache/\n",
        "\t.compiz/\n",
        "\t.config/\n",
        "\t.dbus/\n",
        "\t.dmrc\n",
        "\t.dropbox-dist/\n",
        "\t.dropbox/\n",
        "\t.gconf/\n",
        "\t.gitconfig\n",
        "\t.gnome/\n",
        "\t.gstreamer-0.10/\n",
        "\t.gtkpod/\n",
        "\t.ipynb_checkpoints/\n",
        "\t.ipython/\n",
        "\t.julia/\n",
        "\t.julia_history\n",
        "\t.local/\n",
        "\t.lyx/\n",
        "\t.macromedia/\n",
        "\t.mozilla/\n",
        "\t.pip/\n",
        "\t.pki/\n",
        "\t.profile\n",
        "\t.texmf-var/\n",
        "\t.xsession-errors\n",
        "\t.xsession-errors.old\n",
        "\tDescargas/\n",
        "\tDocumentos/\n",
        "\tDropbox/\n",
        "\t\"Im\\303\\241genes/\"\n",
        "\t\"Irvin Ferm\\303\\255n Angeles Aguill\\303\\263n 309016692 Tarea 1.ipynb\"\n",
        "\t\"Irvin Ferm\\303\\255n Angeles Aguill\\303\\263n 309016692 Tarea 1_CALIFICADO.ipynb\"\n",
        "\t\"M\\303\\272sica/\"\n",
        "\tUntitled0.ipynb\n",
        "\tUntitled1.ipynb\n",
        "\tcompu.txt~\n",
        "\texamples.desktop\n",
        "\tpractica3.ods\n",
        "\n",
        "no hay cambios agregados al commit (use \u00abgit add\u00bb o \u00abgit commit -a\u00bb)\n"
       ]
      }
     ],
     "prompt_number": 30
    },
    {
     "cell_type": "code",
     "collapsed": false,
     "input": [
      "; git add compu.txt"
     ],
     "language": "python",
     "metadata": {},
     "outputs": [],
     "prompt_number": 31
    },
    {
     "cell_type": "code",
     "collapsed": false,
     "input": [
      "; git rm --cached compu.txt"
     ],
     "language": "python",
     "metadata": {},
     "outputs": [
      {
       "output_type": "stream",
       "stream": "stdout",
       "text": [
        "rm 'compu.txt'\n"
       ]
      }
     ],
     "prompt_number": 32
    },
    {
     "cell_type": "code",
     "collapsed": false,
     "input": [
      ";cat compu.txt"
     ],
     "language": "python",
     "metadata": {},
     "outputs": [
      {
       "output_type": "stream",
       "stream": "stdout",
       "text": [
        "djasdjaljdksajdkldsfjlksajlkfjdslfjscbdsjfhsalkxnjks\n",
        "Hola\n",
        "\n",
        "soy un campe\u00f3n\n",
        "\n",
        "\n"
       ]
      }
     ],
     "prompt_number": 34
    },
    {
     "cell_type": "markdown",
     "metadata": {},
     "source": [
      "Para saber cu\u00e1les fueron los cambios"
     ]
    },
    {
     "cell_type": "code",
     "collapsed": false,
     "input": [
      "; git status"
     ],
     "language": "python",
     "metadata": {},
     "outputs": [
      {
       "output_type": "stream",
       "stream": "stdout",
       "text": [
        "En la rama master\n",
        "Cambios para hacer commit:\n",
        "  (use \u00abgit reset HEAD <archivo>...\u00abpara eliminar stage)\n",
        "\n",
        "\tdeleted:    compu.txt\n",
        "\n",
        "Archivos sin seguimiento:\n",
        "  (use \u00abgit add <archivo>...\u00bb para incluir lo que se ha de ejecutar)\n",
        "\n",
        "\t.ICEauthority\n",
        "\t.Skype/\n",
        "\t.Xauthority\n",
        "\t.audacity-data/\n",
        "\t.bash_history\n",
        "\t.bash_logout\n",
        "\t.bashrc\n",
        "\t.cache/\n",
        "\t.compiz/\n",
        "\t.config/\n",
        "\t.dbus/\n",
        "\t.dmrc\n",
        "\t.dropbox-dist/\n",
        "\t.dropbox/\n",
        "\t.gconf/\n",
        "\t.gitconfig\n",
        "\t.gnome/\n",
        "\t.gstreamer-0.10/\n",
        "\t.gtkpod/\n",
        "\t.ipynb_checkpoints/\n",
        "\t.ipython/\n",
        "\t.julia/\n",
        "\t.julia_history\n",
        "\t.local/\n",
        "\t.lyx/\n",
        "\t.macromedia/\n",
        "\t.mozilla/\n",
        "\t.pip/\n",
        "\t.pki/\n",
        "\t.profile\n",
        "\t.texmf-var/\n",
        "\t.xsession-errors\n",
        "\t.xsession-errors.old\n",
        "\tDescargas/\n",
        "\tDocumentos/\n",
        "\tDropbox/\n",
        "\t\"Im\\303\\241genes/\"\n",
        "\t\"Irvin Ferm\\303\\255n Angeles Aguill\\303\\263n 309016692 Tarea 1.ipynb\"\n",
        "\t\"Irvin Ferm\\303\\255n Angeles Aguill\\303\\263n 309016692 Tarea 1_CALIFICADO.ipynb\"\n",
        "\t\"M\\303\\272sica/\"\n",
        "\tUntitled0.ipynb\n",
        "\tUntitled1.ipynb\n",
        "\tcompu.txt\n",
        "\tcompu.txt~\n",
        "\texamples.desktop\n",
        "\tpractica3.ods\n",
        "\n"
       ]
      }
     ],
     "prompt_number": 35
    },
    {
     "cell_type": "code",
     "collapsed": false,
     "input": [
      ";git diff"
     ],
     "language": "python",
     "metadata": {},
     "outputs": [],
     "prompt_number": 37
    },
    {
     "cell_type": "code",
     "collapsed": false,
     "input": [
      "; git diff --staged"
     ],
     "language": "python",
     "metadata": {},
     "outputs": [
      {
       "output_type": "stream",
       "stream": "stdout",
       "text": [
        "diff --git a/compu.txt b/compu.txt\n",
        "deleted file mode 100644\n",
        "index f525678..0000000\n",
        "--- a/compu.txt\n",
        "+++ /dev/null\n",
        "@@ -1,5 +0,0 @@\n",
        "-djasdjaljdksajdkldsfjlksajlkfjdslfjscbdsjfhsalkxnjks\n",
        "-Hola\n",
        "-\n",
        "-\n",
        "-\n"
       ]
      }
     ],
     "prompt_number": 36
    },
    {
     "cell_type": "code",
     "collapsed": false,
     "input": [
      ";git diff --staged compu.txt"
     ],
     "language": "python",
     "metadata": {},
     "outputs": [
      {
       "output_type": "stream",
       "stream": "stdout",
       "text": [
        "diff --git a/compu.txt b/compu.txt\n",
        "deleted file mode 100644\n",
        "index f525678..0000000\n",
        "--- a/compu.txt\n",
        "+++ /dev/null\n",
        "@@ -1,5 +0,0 @@\n",
        "-djasdjaljdksajdkldsfjlksajlkfjdslfjscbdsjfhsalkxnjks\n",
        "-Hola\n",
        "-\n",
        "-\n",
        "-\n"
       ]
      }
     ],
     "prompt_number": 38
    },
    {
     "cell_type": "code",
     "collapsed": false,
     "input": [
      ";git commit -m \"cambios\""
     ],
     "language": "python",
     "metadata": {},
     "outputs": [
      {
       "output_type": "stream",
       "stream": "stdout",
       "text": [
        "[master 61d3cfe] cambios\n",
        " 1 file changed, 5 deletions(-)\n",
        " delete mode 100644 compu.txt\n"
       ]
      }
     ],
     "prompt_number": 39
    },
    {
     "cell_type": "code",
     "collapsed": false,
     "input": [
      ";git status"
     ],
     "language": "python",
     "metadata": {},
     "outputs": [
      {
       "output_type": "stream",
       "stream": "stdout",
       "text": [
        "En la rama master\n",
        "Archivos sin seguimiento:\n",
        "  (use \u00abgit add <archivo>...\u00bb para incluir lo que se ha de ejecutar)\n",
        "\n",
        "\t.ICEauthority\n",
        "\t.Skype/\n",
        "\t.Xauthority\n",
        "\t.audacity-data/\n",
        "\t.bash_history\n",
        "\t.bash_logout\n",
        "\t.bashrc\n",
        "\t.cache/\n",
        "\t.compiz/\n",
        "\t.config/\n",
        "\t.dbus/\n",
        "\t.dmrc\n",
        "\t.dropbox-dist/\n",
        "\t.dropbox/\n",
        "\t.gconf/\n",
        "\t.gitconfig\n",
        "\t.gnome/\n",
        "\t.gstreamer-0.10/\n",
        "\t.gtkpod/\n",
        "\t.ipynb_checkpoints/\n",
        "\t.ipython/\n",
        "\t.julia/\n",
        "\t.julia_history\n",
        "\t.local/\n",
        "\t.lyx/\n",
        "\t.macromedia/\n",
        "\t.mozilla/\n",
        "\t.pip/\n",
        "\t.pki/\n",
        "\t.profile\n",
        "\t.texmf-var/\n",
        "\t.xsession-errors\n",
        "\t.xsession-errors.old\n",
        "\tDescargas/\n",
        "\tDocumentos/\n",
        "\tDropbox/\n",
        "\t\"Im\\303\\241genes/\"\n",
        "\t\"Irvin Ferm\\303\\255n Angeles Aguill\\303\\263n 309016692 Tarea 1.ipynb\"\n",
        "\t\"Irvin Ferm\\303\\255n Angeles Aguill\\303\\263n 309016692 Tarea 1_CALIFICADO.ipynb\"\n",
        "\t\"M\\303\\272sica/\"\n",
        "\tUntitled0.ipynb\n",
        "\tUntitled1.ipynb\n",
        "\tcompu.txt\n",
        "\tcompu.txt~\n",
        "\texamples.desktop\n",
        "\tpractica3.ods\n",
        "\n",
        "no se ha agregado nada al commit pero existen archivos sin seguimiento (use \u00abgit add\u00bb para darle seguimiento)\n"
       ]
      }
     ],
     "prompt_number": 40
    },
    {
     "cell_type": "code",
     "collapsed": false,
     "input": [
      ";git log"
     ],
     "language": "python",
     "metadata": {},
     "outputs": [
      {
       "output_type": "stream",
       "stream": "stdout",
       "text": [
        "commit 61d3cfec681817a257041e6bec97abb6bfe25507\n",
        "Author: Irvin Angeles <irvinangeles@ciencias.unam.mx>\n",
        "Date:   Thu Sep 25 12:14:14 2014 -0500\n",
        "\n",
        "    cambios\n"
       ]
      },
      {
       "output_type": "stream",
       "stream": "stdout",
       "text": [
        "\n",
        "commit 7f00e95946fe3182fba11c110c1395da59b1cdbb\n",
        "Author: Irvin Angeles <irvinangeles@ciencias.unam.mx>\n",
        "Date:   Thu Sep 25 11:57:33 2014 -0500\n",
        "\n",
        "    Se modifco compu.txt\n",
        "\n",
        "commit e59c73b9f4397a59bd2d3f9482ecc3002d59d3f8\n",
        "Author: Irvin Angeles <irvinangeles@ciencias.unam.mx>\n",
        "Date:   Thu Sep 25 11:55:24 2014 -0500\n",
        "\n",
        "    se agrego compu2.txt\n",
        "\n",
        "commit af4a0ea70d158840ce499f2fecd42f6d8de64d56\n",
        "Author: Irvin Angeles <irvinangeles@ciencias.unam.mx>\n",
        "Date:   Thu Sep 25 11:43:56 2014 -0500\n",
        "\n",
        "    Grabaci\u00f3n (commit) inicial: se agreg\u00f3 el archivo compu.txt\n"
       ]
      }
     ],
     "prompt_number": 41
    },
    {
     "cell_type": "code",
     "collapsed": false,
     "input": [
      "; git diff  61d3cfec681817a257041e6bec97abb6bfe25507 7f00e95946fe3182fba11c110c1395da59b1cdbb"
     ],
     "language": "python",
     "metadata": {},
     "outputs": [
      {
       "output_type": "stream",
       "stream": "stdout",
       "text": [
        "diff --git a/compu.txt b/compu.txt\n",
        "new file mode 100644\n",
        "index 0000000..f525678\n",
        "--- /dev/null\n",
        "+++ b/compu.txt\n",
        "@@ -0,0 +1,5 @@\n",
        "+djasdjaljdksajdkldsfjlksajlkfjdslfjscbdsjfhsalkxnjks\n",
        "+Hola\n",
        "+\n",
        "+\n",
        "+\n"
       ]
      }
     ],
     "prompt_number": 42
    },
    {
     "cell_type": "code",
     "collapsed": false,
     "input": [
      ";git checkout e59c73b9f4397a59bd2d3f9482ecc3002d59d3f8"
     ],
     "language": "python",
     "metadata": {},
     "outputs": [
      {
       "output_type": "stream",
       "stream": "stderr",
       "text": [
        "error: The following untracked working tree files would be overwritten by checkout:\n",
        "\tcompu.txt\n",
        "Please move or remove them before you can switch branches.\n",
        "Aborting\n"
       ]
      }
     ],
     "prompt_number": 43
    },
    {
     "cell_type": "code",
     "collapsed": false,
     "input": [
      ";git checkout af4a0ea70d158840ce499f2fecd42f6d8de64d56"
     ],
     "language": "python",
     "metadata": {},
     "outputs": [
      {
       "output_type": "stream",
       "stream": "stderr",
       "text": [
        "error: The following untracked working tree files would be overwritten by checkout:\n",
        "\tcompu.txt\n",
        "Please move or remove them before you can switch branches.\n"
       ]
      },
      {
       "output_type": "stream",
       "stream": "stderr",
       "text": [
        "Aborting\n"
       ]
      }
     ],
     "prompt_number": 44
    },
    {
     "cell_type": "code",
     "collapsed": false,
     "input": [
      ";git checkout HEAD-1 compu.txt"
     ],
     "language": "python",
     "metadata": {},
     "outputs": [
      {
       "output_type": "stream",
       "stream": "stderr",
       "text": [
        "error: pathspec 'HEAD-1' did not match any file(s) known to git.\n"
       ]
      },
      {
       "output_type": "stream",
       "stream": "stderr",
       "text": [
        "error: pathspec 'compu.txt' did not match any file(s) known to git.\n"
       ]
      }
     ],
     "prompt_number": 45
    },
    {
     "cell_type": "code",
     "collapsed": false,
     "input": [
      ";git status"
     ],
     "language": "python",
     "metadata": {},
     "outputs": [
      {
       "output_type": "stream",
       "stream": "stdout",
       "text": [
        "En la rama master\n",
        "Archivos sin seguimiento:\n",
        "  (use \u00abgit add <archivo>...\u00bb para incluir lo que se ha de ejecutar)\n",
        "\n",
        "\t.ICEauthority\n",
        "\t.Skype/\n",
        "\t.Xauthority\n",
        "\t.audacity-data/\n",
        "\t.bash_history\n",
        "\t.bash_logout\n",
        "\t.bashrc\n",
        "\t.cache/\n",
        "\t.compiz/\n",
        "\t.config/\n",
        "\t.dbus/\n",
        "\t.dmrc\n",
        "\t.dropbox-dist/\n",
        "\t.dropbox/\n",
        "\t.gconf/\n",
        "\t.gitconfig\n",
        "\t.gnome/\n",
        "\t.gstreamer-0.10/\n",
        "\t.gtkpod/\n",
        "\t.ipynb_checkpoints/\n",
        "\t.ipython/\n",
        "\t.julia/\n",
        "\t.julia_history\n",
        "\t.local/\n",
        "\t.lyx/\n",
        "\t.macromedia/\n",
        "\t.mozilla/\n",
        "\t.pip/\n",
        "\t.pki/\n",
        "\t.profile\n",
        "\t.texmf-var/\n",
        "\t.xsession-errors\n",
        "\t.xsession-errors.old\n",
        "\tDescargas/\n",
        "\tDocumentos/\n",
        "\tDropbox/\n",
        "\t\"Im\\303\\241genes/\"\n",
        "\t\"Irvin Ferm\\303\\255n Angeles Aguill\\303\\263n 309016692 Tarea 1.ipynb\"\n",
        "\t\"Irvin Ferm\\303\\255n Angeles Aguill\\303\\263n 309016692 Tarea 1_CALIFICADO.ipynb\"\n",
        "\t\"M\\303\\272sica/\"\n",
        "\tUntitled0.ipynb\n",
        "\tUntitled1.ipynb\n",
        "\tcompu.txt\n",
        "\tcompu.txt~\n",
        "\texamples.desktop\n",
        "\tpractica3.ods\n",
        "\n",
        "no se ha agregado nada al commit pero existen archivos sin seguimiento (use \u00abgit add\u00bb para darle seguimiento)\n"
       ]
      }
     ],
     "prompt_number": 46
    },
    {
     "cell_type": "code",
     "collapsed": false,
     "input": [
      ";git add "
     ],
     "language": "python",
     "metadata": {},
     "outputs": []
    }
   ],
   "metadata": {}
  }
 ]
}